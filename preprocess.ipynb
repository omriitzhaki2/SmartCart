{
 "cells": [
  {
   "cell_type": "code",
   "execution_count": 2,
   "metadata": {
    "collapsed": true,
    "ExecuteTime": {
     "end_time": "2024-03-22T14:19:14.052783Z",
     "start_time": "2024-03-22T14:19:08.293023500Z"
    }
   },
   "outputs": [],
   "source": [
    "import pandas as pd\n",
    "import numpy as np\n",
    "import random\n",
    "import cv2"
   ]
  },
  {
   "cell_type": "code",
   "execution_count": 1,
   "outputs": [],
   "source": [
    "# def click_event(event, x, y, flags, param):\n",
    "#     if event == cv2.EVENT_LBUTTONDOWN:\n",
    "#         print(f\"Coordinates: ({x}, {y})\")\n",
    "#\n",
    "# image = cv2.imread('layout/supermarket_map.jpg')\n",
    "# cv2.imshow('Image', image)\n",
    "# cv2.setMouseCallback('Image', click_event)\n",
    "#\n",
    "# cv2.waitKey(0)\n",
    "# cv2.destroyAllWindows()"
   ],
   "metadata": {
    "collapsed": false,
    "ExecuteTime": {
     "end_time": "2024-03-26T09:25:45.790411900Z",
     "start_time": "2024-03-26T09:25:45.786330900Z"
    }
   }
  },
  {
   "cell_type": "markdown",
   "source": [
    "#  Part 1- modeling the supermarket to the map and updating departments"
   ],
   "metadata": {
    "collapsed": false
   }
  },
  {
   "cell_type": "code",
   "execution_count": 53,
   "outputs": [],
   "source": [
    "df = pd.read_csv('data/supermarket_products.csv')"
   ],
   "metadata": {
    "collapsed": false,
    "ExecuteTime": {
     "end_time": "2024-03-22T15:26:58.368441800Z",
     "start_time": "2024-03-22T15:26:57.479226Z"
    }
   }
  },
  {
   "cell_type": "code",
   "execution_count": 54,
   "outputs": [
    {
     "data": {
      "text/plain": "   Unnamed: 0  product_id                                       product_name  \\\n0           0           1                         Chocolate Sandwich Cookies   \n1           1           2                                   All-Seasons Salt   \n2           2           3               Robust Golden Unsweetened Oolong Tea   \n3           3           4  Smart Ones Classic Favorites Mini Rigatoni Wit...   \n4           4           5                          Green Chile Anytime Sauce   \n\n   aisle_id  department_id department                       aisle  \n0        61             19     snacks               cookies cakes  \n1       104             13     pantry           spices seasonings  \n2        94              7  beverages                         tea  \n3        38              1     frozen                frozen meals  \n4         5             13     pantry  marinades meat preparation  ",
      "text/html": "<div>\n<style scoped>\n    .dataframe tbody tr th:only-of-type {\n        vertical-align: middle;\n    }\n\n    .dataframe tbody tr th {\n        vertical-align: top;\n    }\n\n    .dataframe thead th {\n        text-align: right;\n    }\n</style>\n<table border=\"1\" class=\"dataframe\">\n  <thead>\n    <tr style=\"text-align: right;\">\n      <th></th>\n      <th>Unnamed: 0</th>\n      <th>product_id</th>\n      <th>product_name</th>\n      <th>aisle_id</th>\n      <th>department_id</th>\n      <th>department</th>\n      <th>aisle</th>\n    </tr>\n  </thead>\n  <tbody>\n    <tr>\n      <th>0</th>\n      <td>0</td>\n      <td>1</td>\n      <td>Chocolate Sandwich Cookies</td>\n      <td>61</td>\n      <td>19</td>\n      <td>snacks</td>\n      <td>cookies cakes</td>\n    </tr>\n    <tr>\n      <th>1</th>\n      <td>1</td>\n      <td>2</td>\n      <td>All-Seasons Salt</td>\n      <td>104</td>\n      <td>13</td>\n      <td>pantry</td>\n      <td>spices seasonings</td>\n    </tr>\n    <tr>\n      <th>2</th>\n      <td>2</td>\n      <td>3</td>\n      <td>Robust Golden Unsweetened Oolong Tea</td>\n      <td>94</td>\n      <td>7</td>\n      <td>beverages</td>\n      <td>tea</td>\n    </tr>\n    <tr>\n      <th>3</th>\n      <td>3</td>\n      <td>4</td>\n      <td>Smart Ones Classic Favorites Mini Rigatoni Wit...</td>\n      <td>38</td>\n      <td>1</td>\n      <td>frozen</td>\n      <td>frozen meals</td>\n    </tr>\n    <tr>\n      <th>4</th>\n      <td>4</td>\n      <td>5</td>\n      <td>Green Chile Anytime Sauce</td>\n      <td>5</td>\n      <td>13</td>\n      <td>pantry</td>\n      <td>marinades meat preparation</td>\n    </tr>\n  </tbody>\n</table>\n</div>"
     },
     "execution_count": 54,
     "metadata": {},
     "output_type": "execute_result"
    }
   ],
   "source": [
    "df.head()"
   ],
   "metadata": {
    "collapsed": false,
    "ExecuteTime": {
     "end_time": "2024-03-22T15:26:58.586120500Z",
     "start_time": "2024-03-22T15:26:58.064830600Z"
    }
   }
  },
  {
   "cell_type": "code",
   "execution_count": 55,
   "outputs": [
    {
     "data": {
      "text/plain": "(49688, 7)"
     },
     "execution_count": 55,
     "metadata": {},
     "output_type": "execute_result"
    }
   ],
   "source": [
    "df.shape"
   ],
   "metadata": {
    "collapsed": false,
    "ExecuteTime": {
     "end_time": "2024-03-22T15:26:58.742274700Z",
     "start_time": "2024-03-22T15:26:58.145879400Z"
    }
   }
  },
  {
   "cell_type": "code",
   "execution_count": 56,
   "outputs": [],
   "source": [
    "# pre process\n",
    "df = df[df['department_id'] != 21]\n",
    "df.loc[df['aisle_id'] == 24, 'department_id'] = 22\n",
    "df.loc[df['aisle_id'] == 24, 'department'] = 'fresh fruits'\n",
    "\n",
    "df.loc[df['aisle_id'] == 83, 'department_id'] = 23\n",
    "df.loc[df['aisle_id'] == 83, 'department'] = 'fresh vegetables'\n",
    "\n",
    "df.loc[df['aisle_id'] == 86, 'department_id'] = 24\n",
    "df.loc[df['aisle_id'] == 86, 'department'] = 'eggs'\n",
    "\n",
    "df.loc[df['aisle_id'] == 91, 'department_id'] = 25\n",
    "df.loc[df['aisle_id'] == 91, 'department'] = 'soy'\n",
    "\n",
    "df.loc[df['aisle_id'] == 84, 'department_id'] = 26\n",
    "df.loc[df['aisle_id'] == 84, 'department'] = 'milk'\n",
    "\n",
    "df.loc[df['aisle_id'] == 66, 'department_id'] = 27\n",
    "df.loc[df['aisle_id'] == 66, 'department'] = 'asian foods'\n",
    "\n",
    "df.loc[df['aisle_id'] == 33, 'department_id'] = 6\n",
    "df.loc[df['aisle_id'] == 33, 'department'] = 'kosher foods'\n",
    "\n",
    "df.loc[df['aisle_id'] == 30, 'department_id'] = 28\n",
    "df.loc[df['aisle_id'] == 30, 'department'] = 'latino foods'\n",
    "\n",
    "df.loc[df['aisle_id'] == 76, 'department_id'] = 29\n",
    "df.loc[df['aisle_id'] == 76, 'department'] = 'indian foods'\n",
    "\n",
    "df.loc[df['department_id'] == 16, 'department'] = 'cheese'\n",
    "\n",
    "df = df.reset_index(drop=True)"
   ],
   "metadata": {
    "collapsed": false,
    "ExecuteTime": {
     "end_time": "2024-03-22T15:26:58.788097300Z",
     "start_time": "2024-03-22T15:26:58.300202300Z"
    }
   }
  },
  {
   "cell_type": "code",
   "execution_count": 57,
   "outputs": [],
   "source": [
    "department_dict = {\n",
    "                    1: 'fresh fruits',\n",
    "                    2: 'fresh vegetables',\n",
    "                    3: 'produce',\n",
    "                    4: 'meat seafood',\n",
    "                    5:  'bulk',\n",
    "                    6: 'other',\n",
    "                    7: 'dry goods pasta',\n",
    "                    8: 'pantry',\n",
    "                    9: 'breakfast',\n",
    "                    10: 'pets',\n",
    "                    11: 'bakery',\n",
    "                    12: 'deli',\n",
    "                    13: 'frozen',\n",
    "                    14: 'babies',\n",
    "                    15: 'eggs',\n",
    "                    16: 'personal care',\n",
    "                    17: 'snacks',\n",
    "                    18: 'household',\n",
    "                    19: 'alcohol',\n",
    "                    20: 'cheese',\n",
    "                    21: 'milk',\n",
    "                    22: 'soy',\n",
    "                    23: 'canned goods',\n",
    "                    24: 'beverages',\n",
    "                    25: 'asian foods',\n",
    "                    26: 'latino foods',\n",
    "                    27: 'kosher foods',\n",
    "                    28: 'indian foods',\n",
    "                    29: 'none',\n",
    "                }"
   ],
   "metadata": {
    "collapsed": false,
    "ExecuteTime": {
     "end_time": "2024-03-22T15:26:58.880798900Z",
     "start_time": "2024-03-22T15:26:58.398109800Z"
    }
   }
  },
  {
   "cell_type": "code",
   "execution_count": 58,
   "outputs": [],
   "source": [
    "coordinated_dict = {\n",
    "        1: [(37, 19), (115, 280)],\n",
    "        2: [(140, 19), (219, 269)],\n",
    "        3: [(242, 19), (325, 258)],\n",
    "        4: [(344, 19), (430, 252)],\n",
    "        5: [(462, 19), (548, 253)],\n",
    "        6: [(569, 19), (654, 248)],\n",
    "        7: [(683, 19), (770, 258)],\n",
    "        8: [(797, 19), (876, 272)],\n",
    "        9: [(894, 19), (982, 276)],\n",
    "        10: [(38, 327), (118, 491)],\n",
    "        11: [(136, 287), (357, 424)],\n",
    "        12: [(394, 265), (628, 385)],\n",
    "        13: [(666, 290), (874, 429)],\n",
    "        14: [(895, 323), (983, 500)],\n",
    "        15: [(35, 510), (115, 701)],\n",
    "        16: [(137, 530), (353, 691)],\n",
    "        17: [(396, 637), (623, 739)],\n",
    "        18: [(667, 525), (872, 684)],\n",
    "        19: [(896, 510), (977, 692)],\n",
    "        20: [(796, 709), (977, 915)],\n",
    "        21: [(683, 710), (768, 911)],\n",
    "        22: [(555, 750), (658, 916)],\n",
    "        23: [(254, 745), (525, 892)],\n",
    "        24: [(38, 710), (214, 906)],\n",
    "        25: [(5, 930), (325, 989)],\n",
    "        26: [(340, 930), (471, 989)],\n",
    "        27: [(557, 930), (715, 989)],\n",
    "        28: [(736, 930), (1010, 989)],\n",
    "        29: [(362, 398), (660, 600)],\n",
    "    }"
   ],
   "metadata": {
    "collapsed": false,
    "ExecuteTime": {
     "end_time": "2024-03-22T15:26:58.927681500Z",
     "start_time": "2024-03-22T15:26:58.471271700Z"
    }
   }
  },
  {
   "cell_type": "code",
   "execution_count": 59,
   "outputs": [
    {
     "data": {
      "text/plain": "{'fresh fruits': [(37, 19), (115, 280)],\n 'fresh vegetables': [(140, 19), (219, 269)],\n 'produce': [(242, 19), (325, 258)],\n 'meat seafood': [(344, 19), (430, 252)],\n 'bulk': [(462, 19), (548, 253)],\n 'other': [(569, 19), (654, 248)],\n 'dry goods pasta': [(683, 19), (770, 258)],\n 'pantry': [(797, 19), (876, 272)],\n 'breakfast': [(894, 19), (982, 276)],\n 'pets': [(38, 327), (118, 491)],\n 'bakery': [(136, 287), (357, 424)],\n 'deli': [(394, 265), (628, 385)],\n 'frozen': [(666, 290), (874, 429)],\n 'babies': [(895, 323), (983, 500)],\n 'eggs': [(35, 510), (115, 701)],\n 'personal care': [(137, 530), (353, 691)],\n 'snacks': [(396, 637), (623, 739)],\n 'household': [(667, 525), (872, 684)],\n 'alcohol': [(896, 510), (977, 692)],\n 'cheese': [(796, 709), (977, 915)],\n 'milk': [(683, 710), (768, 911)],\n 'soy': [(555, 750), (658, 916)],\n 'canned goods': [(254, 745), (525, 892)],\n 'beverages': [(38, 710), (214, 906)],\n 'asian foods': [(5, 930), (325, 989)],\n 'latino foods': [(340, 930), (471, 989)],\n 'kosher foods': [(557, 930), (715, 989)],\n 'indian foods': [(736, 930), (1010, 989)],\n 'none': [(362, 398), (660, 600)]}"
     },
     "execution_count": 59,
     "metadata": {},
     "output_type": "execute_result"
    }
   ],
   "source": [
    "department_coordinated_dict = {}\n",
    "for i in coordinated_dict.keys():\n",
    "    department_coordinated_dict[department_dict[i]] = coordinated_dict[i]\n",
    "department_coordinated_dict"
   ],
   "metadata": {
    "collapsed": false,
    "ExecuteTime": {
     "end_time": "2024-03-22T15:26:59.130127600Z",
     "start_time": "2024-03-22T15:26:58.585104200Z"
    }
   }
  },
  {
   "cell_type": "code",
   "execution_count": 60,
   "outputs": [],
   "source": [
    "def randomize_coordinate(df, department, coordinates):\n",
    "    x1, y1 = coordinates[0]\n",
    "    x2, y2 = coordinates[1]\n",
    "\n",
    "    for id in df[df['department'] == department]['product_id'].unique():\n",
    "        random_x = random.randint(x1, x2)\n",
    "        random_y = random.randint(y1, y2)\n",
    "        df.loc[df['product_id'] == id, 'x_location'] = random_x\n",
    "        df.loc[df['product_id'] == id, 'y_location'] = random_y\n",
    "    return df\n"
   ],
   "metadata": {
    "collapsed": false,
    "ExecuteTime": {
     "end_time": "2024-03-22T15:26:59.232659800Z",
     "start_time": "2024-03-22T15:26:58.687714900Z"
    }
   }
  },
  {
   "cell_type": "code",
   "execution_count": 61,
   "outputs": [],
   "source": [
    "df['x_location'] = 0\n",
    "df['y_location'] = 0\n",
    "for index, department in department_dict.items():\n",
    "    df = randomize_coordinate(df, department, department_coordinated_dict[department])\n"
   ],
   "metadata": {
    "collapsed": false,
    "ExecuteTime": {
     "end_time": "2024-03-22T15:29:35.837307900Z",
     "start_time": "2024-03-22T15:26:58.866670100Z"
    }
   }
  },
  {
   "cell_type": "code",
   "execution_count": 62,
   "outputs": [],
   "source": [
    "# import pandas as pd\n",
    "# import matplotlib.pyplot as plt\n",
    "#\n",
    "# img = plt.imread('layout/supermarket_map.jpg')\n",
    "# plt.imshow(img)\n",
    "#\n",
    "# # Plot red dots for each (x_location, y_location) pair\n",
    "# for index, row in df.iterrows():\n",
    "#     plt.scatter(row['x_location'], row['y_location'], color='red', s=3)\n",
    "#     # break\n",
    "#\n",
    "# plt.show()"
   ],
   "metadata": {
    "collapsed": false,
    "ExecuteTime": {
     "end_time": "2024-03-22T15:29:35.847648100Z",
     "start_time": "2024-03-22T15:29:35.842821300Z"
    }
   }
  },
  {
   "cell_type": "code",
   "execution_count": 63,
   "outputs": [],
   "source": [
    "def closest_edge_coordinate(coordinates1, coordinates2, product_location):\n",
    "    x1, y1 = coordinates1\n",
    "    x2, y2 = coordinates2\n",
    "    x, y = product_location\n",
    "\n",
    "    # Calculate the center of the square\n",
    "    center_x = (x1 + x2) / 2\n",
    "    center_y = (y1 + y2) / 2\n",
    "\n",
    "    # Calculate the half-width and half-height of the square\n",
    "    half_width = abs(x2 - x1) / 2\n",
    "    half_height = abs(y2 - y1) / 2\n",
    "\n",
    "    # Calculate the distances from C to the edges of the square\n",
    "    dx = min(abs(x - (center_x - half_width)), abs(x - (center_x + half_width)))\n",
    "    dy = min(abs(y - (center_y - half_height)), abs(y - (center_y + half_height)))\n",
    "\n",
    "    # Determine which edge is closest and return the corresponding coordinate\n",
    "    if dx < dy:\n",
    "        if x < center_x:\n",
    "            return (x1, y)  # Left edge\n",
    "        else:\n",
    "            return (x2, y)  # Right edge\n",
    "    else:\n",
    "        if y < center_y:\n",
    "            return (x, y1)  # Top edge\n",
    "        else:\n",
    "            return (x, y2)"
   ],
   "metadata": {
    "collapsed": false,
    "ExecuteTime": {
     "end_time": "2024-03-22T15:29:35.870304800Z",
     "start_time": "2024-03-22T15:29:35.854269Z"
    }
   }
  },
  {
   "cell_type": "code",
   "execution_count": 64,
   "outputs": [],
   "source": [
    "df[['x_closest_location', 'y_closest_location']] = df.apply(\n",
    "    lambda row: pd.Series(closest_edge_coordinate(\n",
    "        department_coordinated_dict[row['department']][0],\n",
    "        department_coordinated_dict[row['department']][1],\n",
    "        (row['x_location'], row['y_location'])\n",
    "    )), axis=1)"
   ],
   "metadata": {
    "collapsed": false,
    "ExecuteTime": {
     "end_time": "2024-03-22T15:29:56.539833Z",
     "start_time": "2024-03-22T15:29:35.889259500Z"
    }
   }
  },
  {
   "cell_type": "code",
   "execution_count": 65,
   "outputs": [],
   "source": [
    "# Assuming df is your DataFrame\n",
    "df['closest_valid_location'] = df.apply(lambda row: closest_edge_coordinate(department_coordinated_dict[row['department']][0],                                                       department_coordinated_dict[row['department']][1], (int(row['x_location']), int(row['y_location']))), axis=1)\n"
   ],
   "metadata": {
    "collapsed": false,
    "ExecuteTime": {
     "end_time": "2024-03-22T15:29:59.472382800Z",
     "start_time": "2024-03-22T15:29:56.541855Z"
    }
   }
  },
  {
   "cell_type": "code",
   "execution_count": 66,
   "outputs": [
    {
     "data": {
      "text/plain": "   Unnamed: 0  product_id                                       product_name  \\\n0           0           1                         Chocolate Sandwich Cookies   \n1           1           2                                   All-Seasons Salt   \n2           2           3               Robust Golden Unsweetened Oolong Tea   \n3           3           4  Smart Ones Classic Favorites Mini Rigatoni Wit...   \n4           4           5                          Green Chile Anytime Sauce   \n\n   aisle_id  department_id department                       aisle  x_location  \\\n0        61             19     snacks               cookies cakes         544   \n1       104             13     pantry           spices seasonings         864   \n2        94              7  beverages                         tea          50   \n3        38              1     frozen                frozen meals         733   \n4         5             13     pantry  marinades meat preparation         836   \n\n   y_location  x_closest_location  y_closest_location closest_valid_location  \n0         655                 544                 637             (544, 637)  \n1         126                 876                 126             (876, 126)  \n2         813                  38                 813              (38, 813)  \n3         290                 733                 290             (733, 290)  \n4         149                 797                 149             (797, 149)  ",
      "text/html": "<div>\n<style scoped>\n    .dataframe tbody tr th:only-of-type {\n        vertical-align: middle;\n    }\n\n    .dataframe tbody tr th {\n        vertical-align: top;\n    }\n\n    .dataframe thead th {\n        text-align: right;\n    }\n</style>\n<table border=\"1\" class=\"dataframe\">\n  <thead>\n    <tr style=\"text-align: right;\">\n      <th></th>\n      <th>Unnamed: 0</th>\n      <th>product_id</th>\n      <th>product_name</th>\n      <th>aisle_id</th>\n      <th>department_id</th>\n      <th>department</th>\n      <th>aisle</th>\n      <th>x_location</th>\n      <th>y_location</th>\n      <th>x_closest_location</th>\n      <th>y_closest_location</th>\n      <th>closest_valid_location</th>\n    </tr>\n  </thead>\n  <tbody>\n    <tr>\n      <th>0</th>\n      <td>0</td>\n      <td>1</td>\n      <td>Chocolate Sandwich Cookies</td>\n      <td>61</td>\n      <td>19</td>\n      <td>snacks</td>\n      <td>cookies cakes</td>\n      <td>544</td>\n      <td>655</td>\n      <td>544</td>\n      <td>637</td>\n      <td>(544, 637)</td>\n    </tr>\n    <tr>\n      <th>1</th>\n      <td>1</td>\n      <td>2</td>\n      <td>All-Seasons Salt</td>\n      <td>104</td>\n      <td>13</td>\n      <td>pantry</td>\n      <td>spices seasonings</td>\n      <td>864</td>\n      <td>126</td>\n      <td>876</td>\n      <td>126</td>\n      <td>(876, 126)</td>\n    </tr>\n    <tr>\n      <th>2</th>\n      <td>2</td>\n      <td>3</td>\n      <td>Robust Golden Unsweetened Oolong Tea</td>\n      <td>94</td>\n      <td>7</td>\n      <td>beverages</td>\n      <td>tea</td>\n      <td>50</td>\n      <td>813</td>\n      <td>38</td>\n      <td>813</td>\n      <td>(38, 813)</td>\n    </tr>\n    <tr>\n      <th>3</th>\n      <td>3</td>\n      <td>4</td>\n      <td>Smart Ones Classic Favorites Mini Rigatoni Wit...</td>\n      <td>38</td>\n      <td>1</td>\n      <td>frozen</td>\n      <td>frozen meals</td>\n      <td>733</td>\n      <td>290</td>\n      <td>733</td>\n      <td>290</td>\n      <td>(733, 290)</td>\n    </tr>\n    <tr>\n      <th>4</th>\n      <td>4</td>\n      <td>5</td>\n      <td>Green Chile Anytime Sauce</td>\n      <td>5</td>\n      <td>13</td>\n      <td>pantry</td>\n      <td>marinades meat preparation</td>\n      <td>836</td>\n      <td>149</td>\n      <td>797</td>\n      <td>149</td>\n      <td>(797, 149)</td>\n    </tr>\n  </tbody>\n</table>\n</div>"
     },
     "execution_count": 66,
     "metadata": {},
     "output_type": "execute_result"
    }
   ],
   "source": [
    "df.head()"
   ],
   "metadata": {
    "collapsed": false,
    "ExecuteTime": {
     "end_time": "2024-03-22T15:29:59.571267800Z",
     "start_time": "2024-03-22T15:29:59.479456Z"
    }
   }
  },
  {
   "cell_type": "code",
   "execution_count": 67,
   "outputs": [],
   "source": [
    "df = df[['product_name', 'department', 'aisle', 'x_location', 'y_location', 'x_closest_location', 'y_closest_location']]\n",
    "df['product_inventory_super1'] = [random.randint(0,10) for i in range(df.shape[0])]\n",
    "df['product_inventory_super2'] = [random.randint(0,10) for i in range(df.shape[0])]\n",
    "df['product_inventory_super3'] = [random.randint(0,10) for i in range(df.shape[0])]"
   ],
   "metadata": {
    "collapsed": false,
    "ExecuteTime": {
     "end_time": "2024-03-22T15:30:00.184061700Z",
     "start_time": "2024-03-22T15:29:59.560942100Z"
    }
   }
  },
  {
   "cell_type": "code",
   "execution_count": 68,
   "outputs": [
    {
     "data": {
      "text/plain": "                                        product_name department  \\\n0                         Chocolate Sandwich Cookies     snacks   \n1                                   All-Seasons Salt     pantry   \n2               Robust Golden Unsweetened Oolong Tea  beverages   \n3  Smart Ones Classic Favorites Mini Rigatoni Wit...     frozen   \n4                          Green Chile Anytime Sauce     pantry   \n\n                        aisle  x_location  y_location  x_closest_location  \\\n0               cookies cakes         544         655                 544   \n1           spices seasonings         864         126                 876   \n2                         tea          50         813                  38   \n3                frozen meals         733         290                 733   \n4  marinades meat preparation         836         149                 797   \n\n   y_closest_location  product_inventory_super1  product_inventory_super2  \\\n0                 637                         4                         9   \n1                 126                         1                         7   \n2                 813                        10                         0   \n3                 290                         8                        10   \n4                 149                         1                         4   \n\n   product_inventory_super3  \n0                        10  \n1                         8  \n2                         5  \n3                         7  \n4                         0  ",
      "text/html": "<div>\n<style scoped>\n    .dataframe tbody tr th:only-of-type {\n        vertical-align: middle;\n    }\n\n    .dataframe tbody tr th {\n        vertical-align: top;\n    }\n\n    .dataframe thead th {\n        text-align: right;\n    }\n</style>\n<table border=\"1\" class=\"dataframe\">\n  <thead>\n    <tr style=\"text-align: right;\">\n      <th></th>\n      <th>product_name</th>\n      <th>department</th>\n      <th>aisle</th>\n      <th>x_location</th>\n      <th>y_location</th>\n      <th>x_closest_location</th>\n      <th>y_closest_location</th>\n      <th>product_inventory_super1</th>\n      <th>product_inventory_super2</th>\n      <th>product_inventory_super3</th>\n    </tr>\n  </thead>\n  <tbody>\n    <tr>\n      <th>0</th>\n      <td>Chocolate Sandwich Cookies</td>\n      <td>snacks</td>\n      <td>cookies cakes</td>\n      <td>544</td>\n      <td>655</td>\n      <td>544</td>\n      <td>637</td>\n      <td>4</td>\n      <td>9</td>\n      <td>10</td>\n    </tr>\n    <tr>\n      <th>1</th>\n      <td>All-Seasons Salt</td>\n      <td>pantry</td>\n      <td>spices seasonings</td>\n      <td>864</td>\n      <td>126</td>\n      <td>876</td>\n      <td>126</td>\n      <td>1</td>\n      <td>7</td>\n      <td>8</td>\n    </tr>\n    <tr>\n      <th>2</th>\n      <td>Robust Golden Unsweetened Oolong Tea</td>\n      <td>beverages</td>\n      <td>tea</td>\n      <td>50</td>\n      <td>813</td>\n      <td>38</td>\n      <td>813</td>\n      <td>10</td>\n      <td>0</td>\n      <td>5</td>\n    </tr>\n    <tr>\n      <th>3</th>\n      <td>Smart Ones Classic Favorites Mini Rigatoni Wit...</td>\n      <td>frozen</td>\n      <td>frozen meals</td>\n      <td>733</td>\n      <td>290</td>\n      <td>733</td>\n      <td>290</td>\n      <td>8</td>\n      <td>10</td>\n      <td>7</td>\n    </tr>\n    <tr>\n      <th>4</th>\n      <td>Green Chile Anytime Sauce</td>\n      <td>pantry</td>\n      <td>marinades meat preparation</td>\n      <td>836</td>\n      <td>149</td>\n      <td>797</td>\n      <td>149</td>\n      <td>1</td>\n      <td>4</td>\n      <td>0</td>\n    </tr>\n  </tbody>\n</table>\n</div>"
     },
     "execution_count": 68,
     "metadata": {},
     "output_type": "execute_result"
    }
   ],
   "source": [
    "df.head()"
   ],
   "metadata": {
    "collapsed": false,
    "ExecuteTime": {
     "end_time": "2024-03-22T15:30:00.230949700Z",
     "start_time": "2024-03-22T15:30:00.162679Z"
    }
   }
  },
  {
   "cell_type": "code",
   "execution_count": 69,
   "outputs": [],
   "source": [
    "df.to_csv('data/final_products_supermarket.csv')"
   ],
   "metadata": {
    "collapsed": false,
    "ExecuteTime": {
     "end_time": "2024-03-22T15:30:02.778450700Z",
     "start_time": "2024-03-22T15:30:00.219420200Z"
    }
   }
  },
  {
   "cell_type": "markdown",
   "source": [
    "# Part 2- Create map graph"
   ],
   "metadata": {
    "collapsed": false
   }
  },
  {
   "cell_type": "code",
   "execution_count": 70,
   "outputs": [],
   "source": [
    "import numpy as np\n",
    "import pandas as pd\n",
    "import pickle"
   ],
   "metadata": {
    "collapsed": false,
    "ExecuteTime": {
     "end_time": "2024-03-22T15:30:02.802533700Z",
     "start_time": "2024-03-22T15:30:02.789443800Z"
    }
   }
  },
  {
   "cell_type": "code",
   "execution_count": 71,
   "outputs": [],
   "source": [
    "coordinated_dict = {\n",
    "        1: [(37, 19), (115, 280)],\n",
    "        2: [(140, 19), (219, 269)],\n",
    "        3: [(242, 19), (325, 258)],\n",
    "        4: [(344, 19), (430, 252)],\n",
    "        5: [(462, 19), (548, 253)],\n",
    "        6: [(569, 19), (654, 248)],\n",
    "        7: [(683, 19), (770, 258)],\n",
    "        8: [(797, 19), (876, 272)],\n",
    "        9: [(894, 19), (982, 276)],\n",
    "        10: [(38, 327), (118, 491)],\n",
    "        11: [(136, 287), (357, 424)],\n",
    "        12: [(394, 265), (628, 385)],\n",
    "        13: [(666, 290), (874, 429)],\n",
    "        14: [(895, 323), (983, 500)],\n",
    "        15: [(35, 510), (115, 701)],\n",
    "        16: [(137, 530), (353, 691)],\n",
    "        17: [(396, 637), (623, 739)],\n",
    "        18: [(667, 525), (872, 684)],\n",
    "        19: [(896, 510), (977, 692)],\n",
    "        20: [(796, 709), (977, 915)],\n",
    "        21: [(683, 710), (768, 911)],\n",
    "        22: [(555, 750), (658, 916)],\n",
    "        23: [(254, 745), (525, 892)],\n",
    "        24: [(38, 710), (214, 906)],\n",
    "        25: [(5, 930), (325, 989)],\n",
    "        26: [(340, 930), (471, 989)],\n",
    "        27: [(557, 930), (715, 989)],\n",
    "        28: [(736, 930), (1010, 989)],\n",
    "        29: [(362, 398), (660, 600)],\n",
    "        30: [(0, 0), (20, 937)],\n",
    "        31: [(999, 2), (1022, 948)]\n",
    "    }"
   ],
   "metadata": {
    "collapsed": false,
    "ExecuteTime": {
     "end_time": "2024-03-22T15:30:02.895242Z",
     "start_time": "2024-03-22T15:30:02.804045400Z"
    }
   }
  },
  {
   "cell_type": "code",
   "execution_count": 72,
   "outputs": [],
   "source": [
    "def create_coordinate_graph(coordinated_dict):\n",
    "    map_coordinates = np.ones((1006, 992))\n",
    "    for (x1, y1), (x2, y2) in coordinated_dict.values():\n",
    "        map_coordinates[y1+1:y2, x1+1:x2] = 0\n",
    "\n",
    "    # Create a graph\n",
    "    G = nx.Graph()\n",
    "\n",
    "    # Create nodes for each cell in the map\n",
    "    rows, cols = map_coordinates.shape\n",
    "    for i in range(rows):\n",
    "        for j in range(cols):\n",
    "            if map_coordinates[i, j] == 1:  # Only consider valid paths\n",
    "                G.add_node((i, j))\n",
    "\n",
    "    for node in G.nodes:\n",
    "        x, y = node\n",
    "        neighbors = [(x+dx, y+dy) for dx, dy in [(-1, 0), (1, 0), (0, -1), (0, 1)]]\n",
    "        for neighbor in neighbors:\n",
    "            if neighbor in G.nodes and map_coordinates[neighbor] == 1:  # Only add valid paths\n",
    "                G.add_edge(node, neighbor, weight=1)  # Assuming uniform weight for edges\n",
    "\n",
    "    file_path = 'data/map_graph.pkl'\n",
    "    with open(file_path, 'wb') as f:\n",
    "        pickle.dump(G, f)\n",
    "\n",
    "create_coordinate_graph(coordinated_dict)"
   ],
   "metadata": {
    "collapsed": false,
    "ExecuteTime": {
     "end_time": "2024-03-22T15:30:16.494552Z",
     "start_time": "2024-03-22T15:30:02.857154500Z"
    }
   }
  }
 ],
 "metadata": {
  "kernelspec": {
   "display_name": "Python 3",
   "language": "python",
   "name": "python3"
  },
  "language_info": {
   "codemirror_mode": {
    "name": "ipython",
    "version": 2
   },
   "file_extension": ".py",
   "mimetype": "text/x-python",
   "name": "python",
   "nbconvert_exporter": "python",
   "pygments_lexer": "ipython2",
   "version": "2.7.6"
  }
 },
 "nbformat": 4,
 "nbformat_minor": 0
}
